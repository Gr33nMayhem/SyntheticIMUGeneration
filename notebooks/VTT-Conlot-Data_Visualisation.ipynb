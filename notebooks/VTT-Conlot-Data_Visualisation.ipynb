{
 "cells": [
  {
   "cell_type": "code",
   "execution_count": 1,
   "metadata": {
    "collapsed": true,
    "ExecuteTime": {
     "start_time": "2024-03-19T14:26:21.116735Z",
     "end_time": "2024-03-19T14:26:24.424859Z"
    }
   },
   "outputs": [],
   "source": [
    "# import the necessary packages\n",
    "import pandas as pd\n",
    "import numpy as np\n",
    "import matplotlib.pyplot as plt\n",
    "import seaborn as sns\n",
    "from sklearn.model_selection import train_test_split\n",
    "from sklearn.preprocessing import StandardScaler\n",
    "import torch\n",
    "import torch.nn as nn\n",
    "import torch.nn.functional as F\n",
    "\n",
    "from einops import rearrange, repeat\n",
    "from einops.layers.torch import Rearrange\n",
    "import numpy as np"
   ]
  },
  {
   "cell_type": "code",
   "execution_count": 2,
   "outputs": [],
   "source": [
    "data_path = '../data/VTT_ConIot_Dataset'\n",
    "IMU_path = data_path + '/IMU'\n",
    "Keypoint_path = data_path + '/Keypoint'\n"
   ],
   "metadata": {
    "collapsed": false,
    "ExecuteTime": {
     "start_time": "2024-03-19T14:26:24.425859Z",
     "end_time": "2024-03-19T14:26:24.438368Z"
    }
   }
  },
  {
   "cell_type": "code",
   "execution_count": 3,
   "outputs": [],
   "source": [
    "# Load activity 1 for user 1\n",
    "keypoint_data = pd.read_csv(Keypoint_path + '/Subject_01_Task_1.m2ts_keyPoints.csv')\n",
    "imu_data = pd.read_csv(IMU_path + '/activity_1_user_1_combined.csv')"
   ],
   "metadata": {
    "collapsed": false,
    "ExecuteTime": {
     "start_time": "2024-03-19T14:26:24.441369Z",
     "end_time": "2024-03-19T14:26:24.534549Z"
    }
   }
  },
  {
   "cell_type": "code",
   "execution_count": 4,
   "outputs": [
    {
     "name": "stdout",
     "output_type": "stream",
     "text": [
      "   frame_number  timestamp       x0       y0   prob0       x1       y1  \\\n",
      "0             0          0  909.797  232.566  0.3156  912.662  218.176   \n",
      "1             1         40  902.369  264.382  0.2932  908.107  247.104   \n",
      "2             2         80  909.693  276.270  0.6559  911.127  263.325   \n",
      "3             3        120  913.709  293.351  0.7699  915.149  280.400   \n",
      "4             4        160  918.769  296.528  0.6209  920.208  283.577   \n",
      "\n",
      "    prob1       x2       y2  ...      x14      y14  prob14      x15      y15  \\\n",
      "0  0.3663  895.469  221.054  ...  816.663  706.000  0.1226  861.081  851.340   \n",
      "1  0.4096  888.024  252.863  ...  817.733  715.061  0.1192  849.293  856.168   \n",
      "2  0.5649  892.488  264.764  ...  832.272  727.915  0.1609  848.043  854.490   \n",
      "3  0.6624  896.434  281.839  ...  841.731  735.124  0.1302  850.368  856.000   \n",
      "4  0.7260  902.934  285.016  ...  838.156  741.175  0.1317  849.672  854.856   \n",
      "\n",
      "   prob15      x16      y16  prob16  detection_score  \n",
      "0  0.2170  786.574  862.852  0.1922           0.9960  \n",
      "1  0.1586  786.175  861.927  0.2081           0.9988  \n",
      "2  0.2560  784.959  867.435  0.2659           0.9990  \n",
      "3  0.2940  784.148  870.390  0.2651           0.9990  \n",
      "4  0.2625  784.893  869.245  0.2001           0.9987  \n",
      "\n",
      "[5 rows x 54 columns]\n",
      "                 datetime  trousers_index  trousers_Gx_dps  trousers_Gy_dps  \\\n",
      "0         0 days 00:00:00    1.574922e+09         6.599426       -25.436401   \n",
      "1  0 days 00:00:00.010000    1.574922e+09         1.815796       -19.378662   \n",
      "2  0 days 00:00:00.020000    1.574922e+09        -0.907898       -14.900208   \n",
      "3  0 days 00:00:00.030000    1.574922e+09        -3.318787       -16.517639   \n",
      "4  0 days 00:00:00.040000    1.574922e+09        -6.233215       -20.179749   \n",
      "\n",
      "   trousers_Gz_dps  trousers_Ax_g  trousers_Ay_g  trousers_Az_g   trousers_ts  \\\n",
      "0        -5.363464      -0.649292       0.138428      -0.262695  1.574922e+09   \n",
      "1        -8.651733      -0.466064       0.326172      -0.366089  1.574922e+09   \n",
      "2       -11.062622      -0.365967       0.355225      -0.289062  1.574922e+09   \n",
      "3       -12.855530      -0.265991       0.389893      -0.180908  1.574922e+09   \n",
      "4       -14.564514      -0.188599       0.338013      -0.116699  1.574922e+09   \n",
      "\n",
      "   trousers_Mx_uT  ...  hand_Ax_g  hand_Ay_g  hand_Az_g       hand_ts  \\\n",
      "0       60.451531  ...   2.328125  -1.667480   0.587158  1.574922e+09   \n",
      "1       59.303844  ...   2.483521  -1.685181   0.604370  1.574922e+09   \n",
      "2       59.377167  ...   2.724854  -1.626587   0.655029  1.574922e+09   \n",
      "3       57.322870  ...   2.914917  -1.578613   0.626709  1.574922e+09   \n",
      "4       59.461998  ...   2.978027  -1.611816   0.657593  1.574922e+09   \n",
      "\n",
      "   hand_Mx_uT  hand_My_uT  hand_Mz_uT   hand_mbar  hand_tot_g  hand_tot_dps  \n",
      "0   84.016854   -2.838439   47.330583  996.090122    2.923254     79.666471  \n",
      "1   82.639020   -0.909472   44.574916  996.090114    3.061531     69.467992  \n",
      "2   80.176386   -2.506107   45.887251  996.090105    3.240320     52.131436  \n",
      "3   82.518450   -1.875324   47.011286  996.090097    3.373652     36.177431  \n",
      "4   83.146552   -3.648981   46.695177  996.090088    3.449497     28.313493  \n",
      "\n",
      "[5 rows x 43 columns]\n",
      "(1497, 54)\n",
      "(5999, 43)\n",
      "Index(['frame_number', 'timestamp', 'x0', 'y0', 'prob0', 'x1', 'y1', 'prob1',\n",
      "       'x2', 'y2', 'prob2', 'x3', 'y3', 'prob3', 'x4', 'y4', 'prob4', 'x5',\n",
      "       'y5', 'prob5', 'x6', 'y6', 'prob6', 'x7', 'y7', 'prob7', 'x8', 'y8',\n",
      "       'prob8', 'x9', 'y9', 'prob9', 'x10', 'y10', 'prob10', 'x11', 'y11',\n",
      "       'prob11', 'x12', 'y12', 'prob12', 'x13', 'y13', 'prob13', 'x14', 'y14',\n",
      "       'prob14', 'x15', 'y15', 'prob15', 'x16', 'y16', 'prob16',\n",
      "       'detection_score'],\n",
      "      dtype='object')\n",
      "Index(['datetime', 'trousers_index', 'trousers_Gx_dps', 'trousers_Gy_dps',\n",
      "       'trousers_Gz_dps', 'trousers_Ax_g', 'trousers_Ay_g', 'trousers_Az_g',\n",
      "       'trousers_ts', 'trousers_Mx_uT', 'trousers_My_uT', 'trousers_Mz_uT',\n",
      "       'trousers_mbar', 'trousers_tot_g', 'trousers_tot_dps', 'back_index',\n",
      "       'back_Gx_dps', 'back_Gy_dps', 'back_Gz_dps', 'back_Ax_g', 'back_Ay_g',\n",
      "       'back_Az_g', 'back_ts', 'back_Mx_uT', 'back_My_uT', 'back_Mz_uT',\n",
      "       'back_mbar', 'back_tot_g', 'back_tot_dps', 'hand_index', 'hand_Gx_dps',\n",
      "       'hand_Gy_dps', 'hand_Gz_dps', 'hand_Ax_g', 'hand_Ay_g', 'hand_Az_g',\n",
      "       'hand_ts', 'hand_Mx_uT', 'hand_My_uT', 'hand_Mz_uT', 'hand_mbar',\n",
      "       'hand_tot_g', 'hand_tot_dps'],\n",
      "      dtype='object')\n",
      "       frame_number     timestamp           x0           y0        prob0  \\\n",
      "count    1497.00000   1497.000000  1497.000000  1497.000000  1497.000000   \n",
      "mean      748.00000  29920.000000  1003.159447   258.584517     1.415537   \n",
      "std       432.29099  17291.639598    78.885861    11.514576     0.651143   \n",
      "min         0.00000      0.000000   831.953000   182.685000     0.293200   \n",
      "25%       374.00000  14960.000000   929.679000   252.888000     0.940500   \n",
      "50%       748.00000  29920.000000  1025.730000   256.892000     1.222400   \n",
      "75%      1122.00000  44880.000000  1069.434000   263.217000     1.718100   \n",
      "max      1496.00000  59840.000000  1110.486000   312.713000     4.665600   \n",
      "\n",
      "                x1           y1        prob1           x2           y2  ...  \\\n",
      "count  1497.000000  1497.000000  1497.000000  1497.000000  1497.000000  ...   \n",
      "mean    997.823107   246.463945     1.028857   990.952013   249.510265  ...   \n",
      "std      77.154364    11.426487     0.426435    79.134078    11.023984  ...   \n",
      "min     829.193000   168.291000     0.332300   817.800000   169.731000  ...   \n",
      "25%     929.228000   240.978000     0.730300   918.037000   244.137000  ...   \n",
      "50%    1018.451000   244.612000     0.924400  1012.835000   248.059000  ...   \n",
      "75%    1063.306000   250.880000     1.244000  1057.946000   253.334000  ...   \n",
      "max    1103.439000   299.755000     3.426700  1096.261000   300.934000  ...   \n",
      "\n",
      "               x14          y14       prob14          x15          y15  \\\n",
      "count  1497.000000  1497.000000  1497.000000  1497.000000  1497.000000   \n",
      "mean    909.374585   702.263447     0.277100   962.331852   847.182122   \n",
      "std      89.472746    20.005902     0.066297    73.990704    22.244335   \n",
      "min     729.785000   631.259000     0.081500   800.829000   793.625000   \n",
      "25%     820.955000   685.494000     0.230400   907.776000   826.824000   \n",
      "50%     938.985000   699.506000     0.277000   984.178000   847.919000   \n",
      "75%     977.103000   717.824000     0.320000  1033.587000   866.979000   \n",
      "max    1072.242000   762.424000     0.574900  1069.943000   904.238000   \n",
      "\n",
      "            prob15          x16          y16       prob16  detection_score  \n",
      "count  1497.000000  1497.000000  1497.000000  1497.000000      1497.000000  \n",
      "mean      0.356478   881.650792   857.579958     0.297580         0.999483  \n",
      "std       0.069233    88.254585    25.853128     0.057336         0.000580  \n",
      "min       0.070900   729.944000   804.045000     0.101800         0.986500  \n",
      "25%       0.318000   789.498000   834.104000     0.255900         0.999400  \n",
      "50%       0.358700   910.037000   862.485000     0.298000         0.999600  \n",
      "75%       0.401900   935.421000   878.856000     0.332900         0.999800  \n",
      "max       0.567000  1054.540000   914.697000     0.513300         0.999900  \n",
      "\n",
      "[8 rows x 54 columns]\n",
      "       trousers_index  trousers_Gx_dps  trousers_Gy_dps  trousers_Gz_dps  \\\n",
      "count    5.999000e+03      5999.000000      5999.000000      5999.000000   \n",
      "mean     1.574922e+09         0.768680        -1.425988         1.902099   \n",
      "std      1.731906e+01        18.468069        12.456054         7.548544   \n",
      "min      1.574922e+09       -73.265076      -220.703125       -47.645569   \n",
      "25%      1.574922e+09        -9.700775        -6.706238        -2.769470   \n",
      "50%      1.574922e+09         0.152588        -1.167297         1.304626   \n",
      "75%      1.574922e+09        10.898590         4.840851         6.343842   \n",
      "max      1.574922e+09       121.017456       124.237061        46.394348   \n",
      "\n",
      "       trousers_Ax_g  trousers_Ay_g  trousers_Az_g   trousers_ts  \\\n",
      "count    5999.000000    5999.000000    5999.000000  5.999000e+03   \n",
      "mean        1.895851      -0.327427       0.485509  1.574922e+09   \n",
      "std         0.316543       0.243723       0.171908  1.731906e+01   \n",
      "min        -1.951904      -3.173950      -1.529053  1.574922e+09   \n",
      "25%         1.824463      -0.485840       0.404602  1.574922e+09   \n",
      "50%         1.901855      -0.316528       0.495850  1.574922e+09   \n",
      "75%         1.983826      -0.160095       0.575745  1.574922e+09   \n",
      "max         3.994873       1.803345       3.587158  1.574922e+09   \n",
      "\n",
      "       trousers_Mx_uT  trousers_My_uT  ...    hand_Ax_g    hand_Ay_g  \\\n",
      "count     5999.000000     5999.000000  ...  5999.000000  5999.000000   \n",
      "mean        58.436139        9.394592  ...     1.060354    -0.780578   \n",
      "std          2.600307        6.358290  ...     1.061105     0.513760   \n",
      "min         50.463999      -20.780814  ...    -1.757568    -3.999512   \n",
      "25%         56.773103        6.841869  ...     0.373169    -1.178894   \n",
      "50%         58.470541        9.960938  ...     1.445923    -0.746826   \n",
      "75%         60.149688       14.026087  ...     1.885071    -0.408081   \n",
      "max         65.756265       24.520848  ...     3.997192     0.974487   \n",
      "\n",
      "         hand_Az_g       hand_ts   hand_Mx_uT   hand_My_uT   hand_Mz_uT  \\\n",
      "count  5999.000000  5.999000e+03  5999.000000  5999.000000  5999.000000   \n",
      "mean      1.013335  1.574922e+09    77.638352   -10.650362    50.459253   \n",
      "std       0.418619  1.731907e+01     9.146513     6.994395    10.313983   \n",
      "min      -0.327026  1.574922e+09    43.748340   -30.157456    29.313216   \n",
      "25%       0.692383  1.574922e+09    72.455349   -15.314111    42.525412   \n",
      "50%       1.027832  1.574922e+09    80.319000   -10.748205    49.775800   \n",
      "75%       1.312561  1.574922e+09    84.032519    -5.610084    57.122299   \n",
      "max       3.020874  1.574922e+09    93.329055    11.094156    81.417814   \n",
      "\n",
      "         hand_mbar   hand_tot_g  hand_tot_dps  \n",
      "count  5999.000000  5999.000000   5999.000000  \n",
      "mean    996.080032     2.047658     99.282094  \n",
      "std       0.002825     0.363998     72.323216  \n",
      "min     996.076475     0.108305      0.947367  \n",
      "25%     996.079105     1.855080     38.672486  \n",
      "50%     996.079323     2.051109     80.746522  \n",
      "75%     996.079541     2.232058    145.664616  \n",
      "max     996.090122     5.443232    351.908981  \n",
      "\n",
      "[8 rows x 42 columns]\n"
     ]
    }
   ],
   "source": [
    "print (keypoint_data.head())\n",
    "print (imu_data.head())\n",
    "\n",
    "print(keypoint_data.shape)\n",
    "print(imu_data.shape)\n",
    "\n",
    "print(keypoint_data.columns)\n",
    "print(imu_data.columns)\n",
    "\n",
    "print(keypoint_data.describe())\n",
    "print(imu_data.describe())"
   ],
   "metadata": {
    "collapsed": false,
    "ExecuteTime": {
     "start_time": "2024-03-19T14:26:24.536549Z",
     "end_time": "2024-03-19T14:26:24.799258Z"
    }
   }
  },
  {
   "cell_type": "code",
   "execution_count": 5,
   "outputs": [
    {
     "name": "stderr",
     "output_type": "stream",
     "text": [
      "C:\\Users\\Azhar\\AppData\\Local\\Temp\\ipykernel_6972\\500998939.py:4: UserWarning: Could not infer format, so each element will be parsed individually, falling back to `dateutil`. To ensure parsing is consistent and as-expected, please specify a format.\n",
      "  imu_data['datetime'] = pd.to_datetime(imu_data['datetime'])\n"
     ]
    }
   ],
   "source": [
    "# for column date time in imu_data, change to time stamp starting from 0\n",
    "# first remove the \"0 days \" substring from the datetime column strings\n",
    "imu_data['datetime'] = imu_data['datetime'].str.replace('0 days ', '')\n",
    "imu_data['datetime'] = pd.to_datetime(imu_data['datetime'])\n",
    "# convert to milliseconds\n",
    "imu_data['datetime'] = imu_data['datetime'].astype(np.int64)/1000000\n",
    "# round off and convert to int\n",
    "imu_data['datetime'] = imu_data['datetime'].round()\n",
    "# keep only difference staring from 0\n",
    "imu_data['datetime'] = imu_data['datetime'] - imu_data['datetime'].min()\n"
   ],
   "metadata": {
    "collapsed": false,
    "ExecuteTime": {
     "start_time": "2024-03-19T14:26:24.801258Z",
     "end_time": "2024-03-19T14:26:25.050875Z"
    }
   }
  },
  {
   "cell_type": "code",
   "execution_count": 6,
   "outputs": [
    {
     "name": "stdout",
     "output_type": "stream",
     "text": [
      "0       0.0\n",
      "1      10.0\n",
      "2      20.0\n",
      "3      30.0\n",
      "4      40.0\n",
      "      ...  \n",
      "95    950.0\n",
      "96    960.0\n",
      "97    970.0\n",
      "98    980.0\n",
      "99    990.0\n",
      "Name: datetime, Length: 100, dtype: float64\n"
     ]
    }
   ],
   "source": [
    "print(imu_data['datetime'].head(100))"
   ],
   "metadata": {
    "collapsed": false,
    "ExecuteTime": {
     "start_time": "2024-03-19T14:26:25.053873Z",
     "end_time": "2024-03-19T14:26:25.096094Z"
    }
   }
  },
  {
   "cell_type": "code",
   "execution_count": 7,
   "outputs": [
    {
     "name": "stdout",
     "output_type": "stream",
     "text": [
      "59980.0\n",
      "59840\n"
     ]
    }
   ],
   "source": [
    "print(imu_data['datetime'].max())\n",
    "print(keypoint_data['timestamp'].max())"
   ],
   "metadata": {
    "collapsed": false,
    "ExecuteTime": {
     "start_time": "2024-03-19T14:26:25.068952Z",
     "end_time": "2024-03-19T14:26:25.108908Z"
    }
   }
  },
  {
   "cell_type": "code",
   "execution_count": 8,
   "outputs": [
    {
     "name": "stdout",
     "output_type": "stream",
     "text": [
      "(5999,)\n",
      "(1497,)\n"
     ]
    }
   ],
   "source": [
    "print(imu_data['datetime'].shape)\n",
    "print(keypoint_data['timestamp'].shape)\n",
    "\n",
    "# NOTE TO SELF: The timestamps are not the same. Simple solution would be to ignore the extra time stamps once they are brought dow nto the same frequency."
   ],
   "metadata": {
    "collapsed": false,
    "ExecuteTime": {
     "start_time": "2024-03-19T14:26:25.084798Z",
     "end_time": "2024-03-19T14:26:25.108908Z"
    }
   }
  },
  {
   "cell_type": "code",
   "execution_count": 10,
   "outputs": [
    {
     "name": "stdout",
     "output_type": "stream",
     "text": [
      "datetime            float64\n",
      "trousers_index      float64\n",
      "trousers_Gx_dps     float64\n",
      "trousers_Gy_dps     float64\n",
      "trousers_Gz_dps     float64\n",
      "trousers_Ax_g       float64\n",
      "trousers_Ay_g       float64\n",
      "trousers_Az_g       float64\n",
      "trousers_ts         float64\n",
      "trousers_Mx_uT      float64\n",
      "trousers_My_uT      float64\n",
      "trousers_Mz_uT      float64\n",
      "trousers_mbar       float64\n",
      "trousers_tot_g      float64\n",
      "trousers_tot_dps    float64\n",
      "back_index          float64\n",
      "back_Gx_dps         float64\n",
      "back_Gy_dps         float64\n",
      "back_Gz_dps         float64\n",
      "back_Ax_g           float64\n",
      "back_Ay_g           float64\n",
      "back_Az_g           float64\n",
      "back_ts             float64\n",
      "back_Mx_uT          float64\n",
      "back_My_uT          float64\n",
      "back_Mz_uT          float64\n",
      "back_mbar           float64\n",
      "back_tot_g          float64\n",
      "back_tot_dps        float64\n",
      "hand_index          float64\n",
      "hand_Gx_dps         float64\n",
      "hand_Gy_dps         float64\n",
      "hand_Gz_dps         float64\n",
      "hand_Ax_g           float64\n",
      "hand_Ay_g           float64\n",
      "hand_Az_g           float64\n",
      "hand_ts             float64\n",
      "hand_Mx_uT          float64\n",
      "hand_My_uT          float64\n",
      "hand_Mz_uT          float64\n",
      "hand_mbar           float64\n",
      "hand_tot_g          float64\n",
      "hand_tot_dps        float64\n",
      "dtype: object\n"
     ]
    }
   ],
   "source": [
    "# check for any non numeric values in the imu data\n",
    "print(imu_data.dtypes)"
   ],
   "metadata": {
    "collapsed": false,
    "ExecuteTime": {
     "start_time": "2024-03-19T14:27:03.147414Z",
     "end_time": "2024-03-19T14:27:03.178426Z"
    }
   }
  },
  {
   "cell_type": "code",
   "execution_count": null,
   "outputs": [],
   "source": [],
   "metadata": {
    "collapsed": false
   }
  }
 ],
 "metadata": {
  "kernelspec": {
   "display_name": "Python 3",
   "language": "python",
   "name": "python3"
  },
  "language_info": {
   "codemirror_mode": {
    "name": "ipython",
    "version": 2
   },
   "file_extension": ".py",
   "mimetype": "text/x-python",
   "name": "python",
   "nbconvert_exporter": "python",
   "pygments_lexer": "ipython2",
   "version": "2.7.6"
  }
 },
 "nbformat": 4,
 "nbformat_minor": 0
}
